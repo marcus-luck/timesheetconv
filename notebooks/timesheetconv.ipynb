{
 "cells": [
  {
   "cell_type": "markdown",
   "id": "5690472d-ece9-48b4-99e4-45cd1f26da54",
   "metadata": {},
   "source": [
    "# automatically open and scrape timereports\n",
    "1. open markndown file in specific folder. Or drop the files? or have a file slection popup?\n",
    "2. scrape all lines after `## Day Planner`\n",
    "3. send to openai for formatting\n",
    "4. use gsheets"
   ]
  },
  {
   "cell_type": "code",
   "execution_count": 1,
   "id": "ecde1fb2-4b62-4f36-830c-5c4d2018a42b",
   "metadata": {},
   "outputs": [],
   "source": [
    "# use todays date to find the file"
   ]
  },
  {
   "cell_type": "code",
   "execution_count": 2,
   "id": "1bf6e407-1888-47e2-b5f8-fc2aeb8757d3",
   "metadata": {},
   "outputs": [],
   "source": [
    "from datetime import datetime\n",
    "from dateutil.relativedelta import relativedelta\n",
    "from pathlib import Path\n",
    "import pathlib\n",
    "import numpy as np\n",
    "import re"
   ]
  },
  {
   "cell_type": "code",
   "execution_count": null,
   "id": "fec981f5-ce32-4200-ad41-07aad2fb81ec",
   "metadata": {},
   "outputs": [],
   "source": []
  },
  {
   "cell_type": "code",
   "execution_count": 3,
   "id": "d7edcec1-cf4f-4d85-8eeb-6945a0ac8628",
   "metadata": {},
   "outputs": [],
   "source": [
    "_filepath = r\"C:\\Users\\marcu\\OneDrive\\NaluScientific\\obsidian_notes\\NaluNote\\Day Planners\""
   ]
  },
  {
   "cell_type": "code",
   "execution_count": 4,
   "id": "1a83e5b0-8c78-4133-b611-03799b8e7fe7",
   "metadata": {},
   "outputs": [],
   "source": [
    "def get_todays_file():\n",
    "    today = datetime.now()\n",
    "    FILENAME = f\"Day Planner-{today.strftime('%Y%m%d')}.md\"\n",
    "    FILEPATH = Path(r\"C:\\Users\\marcu\\OneDrive\\NaluScientific\\obsidian_notes\\NaluNote\\Day Planners\")\n",
    "    return FILEPATH / FILENAME"
   ]
  },
  {
   "cell_type": "code",
   "execution_count": 5,
   "id": "0b991a15-ac22-486d-856c-d477b3a52a8c",
   "metadata": {},
   "outputs": [],
   "source": [
    "def count_workdays(start_date: datetime, end_date: datetime):\n",
    "    \"\"\"Count the workdays between two dates\"\"\"\n",
    "    return np.busday_count(start_date.strftime('%Y-%m-%d'), end_date.strftime('%Y-%m-%d'))"
   ]
  },
  {
   "cell_type": "code",
   "execution_count": null,
   "id": "4f33cb5f-4fb4-488d-a39a-4e97c53854fe",
   "metadata": {},
   "outputs": [],
   "source": []
  },
  {
   "cell_type": "code",
   "execution_count": 6,
   "id": "e8736e88-f92b-43ce-8f87-3d23e220449d",
   "metadata": {},
   "outputs": [],
   "source": [
    "from typing import List, Tuple\n",
    "\n",
    "def scrape_time_and_comments_from_md(file_path: pathlib.Path) -> List[List[Tuple[str]]]:\n",
    "    \"\"\"Scrape the contents of a file into a list.\n",
    "\n",
    "    This function assumes the file contains the timelog in to following pattern:\n",
    "    - [ ] 9:00 project | comment\n",
    "    - 10:00 comment\n",
    "\n",
    "    If no separator is found, then it's assumed there's no project attached.\n",
    "    If no project is attached, lave blank.\n",
    "\n",
    "    \"\"\"\n",
    "    # First pattern to extract time and the combined comment and project part\n",
    "    first_pattern = r'\\[?.?]?\\s*(\\d{2}:\\d{2})\\s+(.+?)\\n'\n",
    "\n",
    "    with open(file_path, 'r') as file:\n",
    "        content = file.readlines()\n",
    "\n",
    "    matches = re.findall(first_pattern, ''.join(content))\n",
    "\n",
    "    second_pattern = r'(.*?)\\s*\\|\\s*(.*)'  # Used to identify the separator\n",
    "    separator= '|'\n",
    "    final_matches = []\n",
    "    for time, comment_project in matches:\n",
    "        if separator in comment_project:\n",
    "            split_match = re.match(second_pattern, comment_project)\n",
    "            if split_match:\n",
    "                project, comment = split_match.groups()\n",
    "            else:\n",
    "                project, comment = '', ''\n",
    "        else:\n",
    "            project, comment = '', comment_project\n",
    "\n",
    "        final_matches.append((time, \"\", \"\", project.strip(), comment.strip()))\n",
    "\n",
    "    return final_matches"
   ]
  },
  {
   "cell_type": "code",
   "execution_count": 7,
   "id": "7b729985-ad74-4df1-8761-3325608d9472",
   "metadata": {},
   "outputs": [],
   "source": [
    "def scrape_time_and_comments_from_md(file_path):\n",
    "\n",
    "    with open(file_path, 'r') as file:\n",
    "        content = file.readlines()\n",
    "    first_pattern = r'\\[?.?]?\\s*(\\d{2}:\\d{2})\\s+(.+?)\\n'\n",
    "    matches = re.findall(first_pattern, ''.join(content))\n",
    "\n",
    "    second_pattern = r'(.*?)\\s+\\|\\s+(.*)'\n",
    "    final_matches = []\n",
    "    for time, comment_project in matches:\n",
    "        if '|' in comment_project:\n",
    "            # Split comment and project\n",
    "            project, comment = re.match(second_pattern, comment_project).groups()\n",
    "        else:\n",
    "            # No project, comment takes the whole part\n",
    "            comment, project = comment_project, ''\n",
    "\n",
    "        # Add to final matches\n",
    "        final_matches.append((time, \"\", \"\", project.strip(), comment.strip()))\n",
    "\n",
    "    return final_matches"
   ]
  },
  {
   "cell_type": "code",
   "execution_count": 8,
   "id": "912d067d-4335-4f0e-b1ca-3fb011822680",
   "metadata": {},
   "outputs": [],
   "source": [
    "def scrape_time_and_comments_from_md(file_path):\n",
    "    # Regular expression to match the required pattern\n",
    "    # Adjusted to handle the newline character correctly\n",
    "    # pattern = r'- \\[.\\] (\\d{2}:\\d{2}) (.+?)\\n'\n",
    "    # pattern = r'\\[?.?]?\\s*(\\d{2}:\\d{2})\\s+(.+?)\\n'\n",
    "    pattern = r'-?\\[?.?]?\\s*(\\d{2}:\\d{2})\\s+(.*?)(?:\\s+\\|\\s+(.*?))?\\n'\n",
    "\n",
    "    # Read the file\n",
    "    with open(file_path, 'r') as file:\n",
    "        content = file.readlines()\n",
    "\n",
    "    # Extract matches\n",
    "    matches = re.findall(pattern, ''.join(content))\n",
    "    return matches"
   ]
  },
  {
   "cell_type": "code",
   "execution_count": 9,
   "id": "138e25fe-2dcd-46ee-a0ac-15f9eeff371b",
   "metadata": {},
   "outputs": [
    {
     "ename": "NameError",
     "evalue": "name 'FULLPATH' is not defined",
     "output_type": "error",
     "traceback": [
      "\u001b[1;31m---------------------------------------------------------------------------\u001b[0m",
      "\u001b[1;31mNameError\u001b[0m                                 Traceback (most recent call last)",
      "Cell \u001b[1;32mIn[9], line 2\u001b[0m\n\u001b[0;32m      1\u001b[0m \u001b[38;5;66;03m# Scrape the time and comments from the temporary file again with the adjusted pattern\u001b[39;00m\n\u001b[1;32m----> 2\u001b[0m scraped_data \u001b[38;5;241m=\u001b[39m scrape_time_and_comments_from_md(\u001b[43mFULLPATH\u001b[49m)\n\u001b[0;32m      3\u001b[0m scraped_data\n",
      "\u001b[1;31mNameError\u001b[0m: name 'FULLPATH' is not defined"
     ]
    }
   ],
   "source": [
    "# Scrape the time and comments from the temporary file again with the adjusted pattern\n",
    "scraped_data = scrape_time_and_comments_from_md(FULLPATH)\n",
    "scraped_data"
   ]
  },
  {
   "cell_type": "code",
   "execution_count": 10,
   "id": "2587aee9-3236-47fc-ac28-4169a822faf0",
   "metadata": {},
   "outputs": [
    {
     "ename": "NameError",
     "evalue": "name 'scraped_data' is not defined",
     "output_type": "error",
     "traceback": [
      "\u001b[1;31m---------------------------------------------------------------------------\u001b[0m",
      "\u001b[1;31mNameError\u001b[0m                                 Traceback (most recent call last)",
      "Cell \u001b[1;32mIn[10], line 28\u001b[0m\n\u001b[0;32m     22\u001b[0m sheet \u001b[38;5;241m=\u001b[39m []\n\u001b[0;32m     24\u001b[0m \u001b[38;5;66;03m# Insert a blank row\u001b[39;00m\n\u001b[0;32m     25\u001b[0m \u001b[38;5;66;03m# sheet.append_row([])\u001b[39;00m\n\u001b[0;32m     26\u001b[0m \n\u001b[0;32m     27\u001b[0m \u001b[38;5;66;03m# Extracted data\u001b[39;00m\n\u001b[1;32m---> 28\u001b[0m data_to_insert \u001b[38;5;241m=\u001b[39m \u001b[43mscraped_data\u001b[49m  \u001b[38;5;66;03m# Use the data you extracted earlier\u001b[39;00m\n\u001b[0;32m     29\u001b[0m formatted_data \u001b[38;5;241m=\u001b[39m format_data(data_to_insert)\n\u001b[0;32m     31\u001b[0m \u001b[38;5;66;03m# Append formatted data to the sheet\u001b[39;00m\n",
      "\u001b[1;31mNameError\u001b[0m: name 'scraped_data' is not defined"
     ]
    }
   ],
   "source": [
    "# import gspread\n",
    "# from oauth2client.service_account import ServiceAccountCredentials\n",
    "\n",
    "# Format the data into the required structure\n",
    "def format_data(data):\n",
    "    formatted_data = []\n",
    "    for time, comment in data:\n",
    "        date_of_file = datetime.now().strftime(\"%Y-%m-%d\")  # Replace with actual date if needed\n",
    "        amount_since_last_row, sum, amount_since_last_row_copy = calculate_additional_data((time, comment))\n",
    "        formatted_row = [date_of_file, time, amount_since_last_row, sum, \"\", comment, amount_since_last_row_copy]\n",
    "        formatted_data.append(formatted_row)\n",
    "    return formatted_data\n",
    "\n",
    "# Use creds to create a client to interact with the Google Drive API\n",
    "# scope = ['https://www.googleapis.com/auth/spreadsheets', 'https://www.googleapis.com/auth/drive']\n",
    "# creds = ServiceAccountCredentials.from_json_keyfile_name('path_to_your_credentials_file.json', scope)\n",
    "# client = gspread.authorize(creds)\n",
    "\n",
    "# Open the sheet and select the first sheet\n",
    "# sheet = client.open(\"Your_Sheet_Name\").sheet1\n",
    "\n",
    "sheet = []\n",
    "\n",
    "# Insert a blank row\n",
    "# sheet.append_row([])\n",
    "\n",
    "# Extracted data\n",
    "data_to_insert = scraped_data  # Use the data you extracted earlier\n",
    "formatted_data = format_data(data_to_insert)\n",
    "\n",
    "# Append formatted data to the sheet\n",
    "for row in formatted_data:\n",
    "    # sheet.append_row(row)\n",
    "    sheet.append(row)\n"
   ]
  },
  {
   "cell_type": "code",
   "execution_count": 11,
   "id": "e4e5aee5-8bc5-43b2-b591-85fd472851cb",
   "metadata": {},
   "outputs": [
    {
     "ename": "NameError",
     "evalue": "name 'scraped_data' is not defined",
     "output_type": "error",
     "traceback": [
      "\u001b[1;31m---------------------------------------------------------------------------\u001b[0m",
      "\u001b[1;31mNameError\u001b[0m                                 Traceback (most recent call last)",
      "Cell \u001b[1;32mIn[11], line 33\u001b[0m\n\u001b[0;32m     30\u001b[0m         tot_sum \u001b[38;5;241m+\u001b[39m\u001b[38;5;241m=\u001b[39m sum_value\n\u001b[0;32m     31\u001b[0m     \u001b[38;5;28;01mreturn\u001b[39;00m tot_sum\n\u001b[1;32m---> 33\u001b[0m calc_total_sum(\u001b[43mscraped_data\u001b[49m)\n",
      "\u001b[1;31mNameError\u001b[0m: name 'scraped_data' is not defined"
     ]
    }
   ],
   "source": [
    "from datetime import datetime\n",
    "\n",
    "def calc_sum(timestamp1, timestamp2, row_description1, row_description2):\n",
    "    # Check conditions\n",
    "    if row_description1.upper() in [\"BREAK\", \"END\", \"\"]:\n",
    "        return 0.0\n",
    "    # if row_description2 in [\"BREAK\", \"END\", \"\"]:\n",
    "        # return 0.0\n",
    "\n",
    "    # Parse timestamps and calculate the difference in hours\n",
    "    format = \"%H:%M\" # %H:%M\"  # Adjust the format if necessary\n",
    "    time1 = datetime.strptime(timestamp1, format)\n",
    "    time2 = datetime.strptime(timestamp2, format)\n",
    "    # print(f\"{time1=}, {time2=}\")\n",
    "    time_diff_hours = (time2 - time1).total_seconds() / 3600\n",
    "\n",
    "    return time_diff_hours\n",
    "\n",
    "def calc_total_sum(scraped_data):\n",
    "    tot_sum = 0\n",
    "    \n",
    "    for i in range(1, len(scraped_data)):\n",
    "        prev_row = scraped_data[i-1]\n",
    "        row = scraped_data[i]\n",
    "        ts1 = prev_row[0]\n",
    "        ts2 = row[0]\n",
    "        desc1 = prev_row[-1]\n",
    "        desc2 = row[-1]\n",
    "        sum_value = calc_sum(ts1, ts2, desc1, desc2)\n",
    "        tot_sum += sum_value\n",
    "    return tot_sum\n",
    "\n",
    "calc_total_sum(scraped_data)"
   ]
  },
  {
   "cell_type": "code",
   "execution_count": null,
   "id": "d0265cb1-efc2-46b1-8518-533e23d8eafb",
   "metadata": {
    "scrolled": true
   },
   "outputs": [],
   "source": []
  },
  {
   "cell_type": "code",
   "execution_count": 12,
   "id": "bd4860de-9a5d-42ac-99d1-ebb230e63840",
   "metadata": {},
   "outputs": [],
   "source": [
    "def calc_daysum(filename):\n",
    "    scraped_data = scrape_time_and_comments_from_md(filename)\n",
    "    totsum = calc_total_sum(scraped_data)\n",
    "    return totsum"
   ]
  },
  {
   "cell_type": "code",
   "execution_count": 18,
   "id": "f2a64876-8a56-4194-8f89-977f66c04d84",
   "metadata": {},
   "outputs": [
    {
     "data": {
      "text/plain": [
       "5.25"
      ]
     },
     "execution_count": 18,
     "metadata": {},
     "output_type": "execute_result"
    }
   ],
   "source": [
    "_filepath = get_todays_file()\n",
    "calc_daysum(_filepath)"
   ]
  },
  {
   "cell_type": "code",
   "execution_count": 19,
   "id": "ba80ee43-0901-420d-8c49-7ecb23b8e01d",
   "metadata": {},
   "outputs": [],
   "source": [
    "def calc_weeksum(folder, weekstart, numdays):\n",
    "    results = 0\n",
    "    for day in range(numdays):\n",
    "        target_date = weekstart + relativedelta(days=+day)\n",
    "        filename = \"Day Planner-{}.md\".format(target_date.strftime('%Y%m%d'))\n",
    "        fullpath = folder / filename\n",
    "        try:\n",
    "            h = calc_daysum(fullpath)\n",
    "        except Exception as e:\n",
    "            # print(e)\n",
    "            h = 0.0\n",
    "        results += h\n",
    "    return results"
   ]
  },
  {
   "cell_type": "code",
   "execution_count": 21,
   "id": "0ad01d88-c697-46aa-abe7-4e812befda03",
   "metadata": {},
   "outputs": [
    {
     "data": {
      "text/plain": [
       "0.0"
      ]
     },
     "execution_count": 21,
     "metadata": {},
     "output_type": "execute_result"
    }
   ],
   "source": [
    "calc_weeksum(_filepath, datetime.fromisoformat(\"20240116\"), 14)"
   ]
  },
  {
   "cell_type": "code",
   "execution_count": 24,
   "id": "5e3ad4a3-5fc6-4209-88d5-5c8178cb1c46",
   "metadata": {},
   "outputs": [
    {
     "ename": "NameError",
     "evalue": "name 'get_timeperiod_or_raise' is not defined",
     "output_type": "error",
     "traceback": [
      "\u001b[1;31m---------------------------------------------------------------------------\u001b[0m",
      "\u001b[1;31mNameError\u001b[0m                                 Traceback (most recent call last)",
      "Cell \u001b[1;32mIn[24], line 22\u001b[0m\n\u001b[0;32m     19\u001b[0m         curr \u001b[38;5;241m+\u001b[39m\u001b[38;5;241m=\u001b[39m relativedelta(days\u001b[38;5;241m=\u001b[39m\u001b[38;5;241m+\u001b[39m\u001b[38;5;241m1\u001b[39m)\n\u001b[0;32m     20\u001b[0m     \u001b[38;5;28;01mreturn\u001b[39;00m h_tot\n\u001b[1;32m---> 22\u001b[0m \u001b[43mcalc_timeperiod\u001b[49m\u001b[43m(\u001b[49m\u001b[43m_filepath\u001b[49m\u001b[43m,\u001b[49m\u001b[43m \u001b[49m\u001b[38;5;241;43m2024\u001b[39;49m\u001b[43m,\u001b[49m\u001b[43m \u001b[49m\u001b[38;5;241;43m1\u001b[39;49m\u001b[43m,\u001b[49m\u001b[43m \u001b[49m\u001b[38;5;124;43m\"\u001b[39;49m\u001b[38;5;124;43msecond\u001b[39;49m\u001b[38;5;124;43m\"\u001b[39;49m\u001b[43m)\u001b[49m\n",
      "Cell \u001b[1;32mIn[24], line 6\u001b[0m, in \u001b[0;36mcalc_timeperiod\u001b[1;34m(folder, year, month, period)\u001b[0m\n\u001b[0;32m      4\u001b[0m \u001b[38;5;28;01mif\u001b[39;00m \u001b[38;5;129;01mnot\u001b[39;00m \u001b[38;5;241m0\u001b[39m \u001b[38;5;241m<\u001b[39m month \u001b[38;5;241m<\u001b[39m\u001b[38;5;241m=\u001b[39m \u001b[38;5;241m12\u001b[39m:\n\u001b[0;32m      5\u001b[0m     \u001b[38;5;28;01mraise\u001b[39;00m \u001b[38;5;167;01mValueError\u001b[39;00m(\u001b[38;5;124m\"\u001b[39m\u001b[38;5;124mOnly 12 months in a year\u001b[39m\u001b[38;5;124m\"\u001b[39m)\n\u001b[1;32m----> 6\u001b[0m start, end \u001b[38;5;241m=\u001b[39m \u001b[43mget_timeperiod_or_raise\u001b[49m(year, month, period)\n\u001b[0;32m      7\u001b[0m \u001b[38;5;28mprint\u001b[39m(\u001b[38;5;124mf\u001b[39m\u001b[38;5;124m\"\u001b[39m\u001b[38;5;124mCalculating period: \u001b[39m\u001b[38;5;132;01m{\u001b[39;00mstart\u001b[38;5;132;01m:\u001b[39;00m\u001b[38;5;124m%F\u001b[39m\u001b[38;5;132;01m}\u001b[39;00m\u001b[38;5;124m - \u001b[39m\u001b[38;5;132;01m{\u001b[39;00mend\u001b[38;5;132;01m:\u001b[39;00m\u001b[38;5;124m%F\u001b[39m\u001b[38;5;132;01m}\u001b[39;00m\u001b[38;5;124m\"\u001b[39m)\n\u001b[0;32m      8\u001b[0m curr \u001b[38;5;241m=\u001b[39m start\n",
      "\u001b[1;31mNameError\u001b[0m: name 'get_timeperiod_or_raise' is not defined"
     ]
    }
   ],
   "source": [
    "from typing import Literal\n",
    "\n",
    "def calc_timeperiod(folder, year: int, month: int, period: Literal[\"first\", \"second\", \"both\"]):\n",
    "    if not 0 < month <= 12:\n",
    "        raise ValueError(\"Only 12 months in a year\")\n",
    "    start, end = get_timeperiod_or_raise(year, month, period)\n",
    "    print(f\"Calculating period: {start:%F} - {end:%F}\")\n",
    "    curr = start\n",
    "    h_tot = 0\n",
    "\n",
    "    while curr <= end:\n",
    "        filename = \"Day Planner-{}.md\".format(curr.strftime('%Y%m%d'))\n",
    "        fullpath = folder / filename\n",
    "        try:\n",
    "            h = calc_daysum(fullpath)\n",
    "        except:\n",
    "            h = 0.0\n",
    "        h_tot += h\n",
    "        curr += relativedelta(days=+1)\n",
    "    return h_tot\n",
    "\n",
    "calc_timeperiod(_filepath, 2024, 1, \"second\")"
   ]
  },
  {
   "cell_type": "code",
   "execution_count": 25,
   "id": "ee293487-850e-4e55-8a82-3feeb5a41b16",
   "metadata": {},
   "outputs": [],
   "source": [
    "def get_timeperiod_or_raise(year: int, month: int, period: Literal[\"first\", \"second\", \"both\"]):\n",
    "    \"\"\"Retuns the first and last date of the payperiod.\n",
    "\n",
    "    Assumes a bimonthly payment plan where the divider is the 15th of the month.\n",
    "\n",
    "    Args:\n",
    "        year: 4 digit year\n",
    "        month: 1-12\n",
    "        period: first, second or both\n",
    "\n",
    "    Returns:\n",
    "        first and last date of the timeperiod. If both is selected, will return first and last date of month.\n",
    "    \"\"\"\n",
    "    first_start = datetime.fromisoformat(f\"{year}{month:02}01\")\n",
    "    tp_month = first_start + relativedelta(months=+1)\n",
    "    first_end = first_start + relativedelta(days=+14)\n",
    "    second_start = first_end + relativedelta(days=+1)\n",
    "    second_end = tp_month + relativedelta(days=-1)\n",
    "    if period == \"first\":\n",
    "        start = first_start\n",
    "        end = first_end\n",
    "    elif period == \"second\":\n",
    "        start = second_start\n",
    "        end = second_end\n",
    "    elif period == \"both\":\n",
    "        start = first_start\n",
    "        end = second_end\n",
    "    else:\n",
    "        raise ValueError(\"Period must be 'first' or 'second'\")\n",
    "    return start, end"
   ]
  },
  {
   "cell_type": "code",
   "execution_count": 26,
   "id": "e7941433-b92b-4a62-88af-2452fa647b50",
   "metadata": {},
   "outputs": [],
   "source": [
    "def create_date_axis(start: datetime, end: datetime):\n",
    "    axis = []\n",
    "    curr = start\n",
    "    while curr <= end:\n",
    "        axis.append(curr)\n",
    "        curr += relativedelta(days=1)\n",
    "    return axis"
   ]
  },
  {
   "cell_type": "code",
   "execution_count": 27,
   "id": "2426deab-5330-4095-ab98-2825990821b1",
   "metadata": {},
   "outputs": [],
   "source": [
    "def get_period_dividers(year, month, period: Literal[\"first\", \"second\", \"both\"]):\n",
    "    \"\"\"Returns the two time periods for a given month as tuples.\n",
    "\n",
    "    Args:\n",
    "        year: 4 digit year.\n",
    "        month: month number 1 - 12\n",
    "\n",
    "    Returns:\n",
    "        Tuple ((first_start, first_end), (second_start, second_end))\n",
    "    \"\"\"\n",
    "    if not isinstance(year, int):\n",
    "        raise TypeError(\"yeah must be an int\")\n",
    "    if len(str(year)) != 4:\n",
    "        ValueError(\"Year must be 4 digits\")\n",
    "    if not 0 < month <= 12:\n",
    "        raise ValueError(\"Only 12 months in a year\")\n",
    "    first_start = datetime.fromisoformat(f\"{year}{month:02}01\")\n",
    "    tp_month = first_start + relativedelta(months=+1)\n",
    "    \n",
    "    first_end = first_start + relativedelta(days=+14)\n",
    "    second_start = first_end + relativedelta(days=+1)\n",
    "    second_end = tp_month + relativedelta(days=-1)\n",
    "\n",
    "    return ((first_start, first_end), (second_start, second_end))"
   ]
  },
  {
   "cell_type": "code",
   "execution_count": 28,
   "id": "dd3aebbe-a6d2-497c-ae17-e1ea968ff078",
   "metadata": {},
   "outputs": [],
   "source": [
    "def gen_copy_paste(folder: pathlib.Path, year: int, month: int, period: Literal[\"first\", \"second\", \"both\"]):\n",
    "    if not 0 < month <= 12:\n",
    "        raise ValueError(\"Only 12 months in a year\")\n",
    "    start, end = get_timeperiod_or_raise(year, month, period)\n",
    "\n",
    "    curr = start\n",
    "    timesheet = []\n",
    "    while curr <= end:\n",
    "        filename = \"Day Planner-{}.md\".format(curr.strftime('%Y%m%d'))\n",
    "        fullpath = folder / filename\n",
    "        try:\n",
    "            scraped = scrape_time_and_comments_from_md(fullpath)\n",
    "        except Exception as e:\n",
    "            scraped = []\n",
    "            pass\n",
    "        row = [(curr.strftime('%Y-%m-%d'), *item) for item in scraped]\n",
    "        if row:\n",
    "            timesheet.extend(row)\n",
    "            timesheet.append(None)\n",
    "        curr += relativedelta(days=+1)\n",
    "    for row in timesheet:\n",
    "        if row is None:\n",
    "            print(\"\")\n",
    "            continue\n",
    "        print(f\"{', '.join(row)}\")"
   ]
  },
  {
   "cell_type": "code",
   "execution_count": 30,
   "id": "2f4a9f70-be9a-4cbf-b3dc-6a537cd96883",
   "metadata": {},
   "outputs": [],
   "source": [
    "gen_copy_paste(_filepath, 2024, 1, \"second\")"
   ]
  },
  {
   "cell_type": "code",
   "execution_count": 50,
   "id": "0c79ab4a-e2be-452f-8d13-858c19b36b03",
   "metadata": {},
   "outputs": [
    {
     "name": "stdout",
     "output_type": "stream",
     "text": [
      "start_date=datetime.datetime(2024, 1, 1, 0, 0), end_date=datetime.datetime(2024, 1, 15, 0, 0)\n"
     ]
    },
    {
     "data": {
      "text/plain": [
       "10"
      ]
     },
     "execution_count": 50,
     "metadata": {},
     "output_type": "execute_result"
    }
   ],
   "source": [
    "count_workdays(*pf)"
   ]
  },
  {
   "cell_type": "code",
   "execution_count": 51,
   "id": "d1202758-e14b-4d8a-8d9d-7bb634c938ce",
   "metadata": {},
   "outputs": [
    {
     "name": "stdout",
     "output_type": "stream",
     "text": [
      "start_date=datetime.datetime(2024, 1, 10, 20, 58, 44, 972628), end_date=datetime.datetime(2024, 1, 15, 0, 0)\n"
     ]
    },
    {
     "data": {
      "text/plain": [
       "3"
      ]
     },
     "execution_count": 51,
     "metadata": {},
     "output_type": "execute_result"
    }
   ],
   "source": [
    "_today = datetime.now()\n",
    "\n",
    "count_workdays(_today, pf[1])"
   ]
  },
  {
   "cell_type": "code",
   "execution_count": 52,
   "id": "5f169339-50ab-4607-908a-98dd2b3e404e",
   "metadata": {},
   "outputs": [
    {
     "name": "stdout",
     "output_type": "stream",
     "text": [
      "start_date=datetime.datetime(2024, 1, 1, 0, 0), end_date=datetime.datetime(2024, 1, 10, 20, 58, 44, 972628)\n"
     ]
    },
    {
     "data": {
      "text/plain": [
       "7"
      ]
     },
     "execution_count": 52,
     "metadata": {},
     "output_type": "execute_result"
    }
   ],
   "source": [
    "count_workdays(pf[0], _today)"
   ]
  },
  {
   "cell_type": "code",
   "execution_count": null,
   "id": "d41cb52d-fec6-4bd0-a845-9bb2bce00088",
   "metadata": {},
   "outputs": [],
   "source": []
  },
  {
   "cell_type": "code",
   "execution_count": null,
   "id": "f4424741-9233-4787-9359-8a50dcf4ca6f",
   "metadata": {},
   "outputs": [],
   "source": []
  },
  {
   "cell_type": "code",
   "execution_count": null,
   "id": "dc058347-7589-43c2-be9b-64643c4c13c7",
   "metadata": {},
   "outputs": [],
   "source": [
    "'date', 'start_time', 'amount, buildup, project, comment "
   ]
  },
  {
   "cell_type": "code",
   "execution_count": null,
   "id": "259201f0-d064-4907-a764-cdea8de57d03",
   "metadata": {},
   "outputs": [],
   "source": []
  }
 ],
 "metadata": {
  "kernelspec": {
   "display_name": "nalu311",
   "language": "python",
   "name": "nalu311"
  },
  "language_info": {
   "codemirror_mode": {
    "name": "ipython",
    "version": 3
   },
   "file_extension": ".py",
   "mimetype": "text/x-python",
   "name": "python",
   "nbconvert_exporter": "python",
   "pygments_lexer": "ipython3",
   "version": "3.11.5"
  }
 },
 "nbformat": 4,
 "nbformat_minor": 5
}
